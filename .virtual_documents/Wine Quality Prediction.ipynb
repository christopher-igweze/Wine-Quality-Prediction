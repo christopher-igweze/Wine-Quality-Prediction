# Import required Libraries
import pandas as pd
import numpy as np
import matplotlib.pyplot as plt
%matplotlib inline
import seaborn as sns
from matplotlib import style
from summarytools import dfSummary # to help summarize our data
import warnings # to remove all the warnings
warnings.filterwarnings('ignore')
from sklearn.cluster import KMeans # importing the K means cluster library
from sklearn.metrics import silhouette_score # importing a metric for our clusters
from sklearn.decomposition import PCA # importing PCA for dimentionality reduction


wine_data = pd.read_csv('winequality-red.csv')
wine_data.head()


dfSummary(wine_data)


wine_data.isnull().sum()





no_duplicates = wine_data[wine_data.duplicated() == False]


no_duplicates[no_duplicates.duplicated() == True] # confirming I had removed them all


no_duplicates.shape


def heatmap(data):
    plt.figure(figsize=(10,7))
    sns.heatmap(data.corr(), annot=True)
    plt.title('Correlation between Features')
    plt.show()


heatmap(wine_data)
heatmap(no_duplicates)








# We drop the quality column
wine_data_v2 = wine_data.drop('quality', axis=1)
no_duplicates_v2 = no_duplicates.drop('quality', axis=1)


# Elbow method
wss=[]
nd_wss=[]
for i in range(1,10):
    # For the data with duplicates
    kmeans = KMeans(n_clusters=i, init='k-means++', random_state=42) # go read up on 'init'
    kmeans.fit(wine_data_v2)
    wss.append(kmeans.inertia_) # go read up on 'inertia_'
    
    # For the data without duplicates
    nd_kmeans = KMeans(n_clusters=i, init='k-means++', random_state=42) # go read up on 'init'
    nd_kmeans.fit(no_duplicates_v2)
    nd_wss.append(nd_kmeans.inertia_) # go read up on 'inertia_'

plt.plot(range(1,10), wss, label="With duplicates")
plt.plot(range(1,10), nd_wss, label="Without duplicates")
plt.title('The Elbow method')
plt.xlabel('Number of clusters')
plt.ylabel('Sum of squared distances')
plt.legend()
plt.show()





# After installing yellowbrick library
from yellowbrick.cluster import KElbowVisualizer

model1 = KMeans() # for the data with duplicates
model2 = KMeans() # for the data without duplicates

# Creating the KElbowVisualizer for the first model
visualizer = KElbowVisualizer(model1, k=(1,10), timings = True)
visualizer.fit(wine_data_v2)
visualizer.show()

# Creating the KElbowVisualizer for the second model
visualizer = KElbowVisualizer(model2, k=(1,10), timings = True)
visualizer.fit(no_duplicates_v2)
visualizer.show()
























